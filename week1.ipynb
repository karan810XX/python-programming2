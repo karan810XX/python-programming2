{
  "nbformat": 4,
  "nbformat_minor": 0,
  "metadata": {
    "colab": {
      "name": "Untitled3.ipynb",
      "provenance": [],
      "collapsed_sections": [],
      "authorship_tag": "ABX9TyMjQBdhKnZBwm9vvbNIe6ZH",
      "include_colab_link": true
    },
    "kernelspec": {
      "name": "python3",
      "display_name": "Python 3"
    },
    "language_info": {
      "name": "python"
    }
  },
  "cells": [
    {
      "cell_type": "markdown",
      "metadata": {
        "id": "view-in-github",
        "colab_type": "text"
      },
      "source": [
        "<a href=\"https://colab.research.google.com/github/karan810XX/python-programming2/blob/main/week1.ipynb\" target=\"_parent\"><img src=\"https://colab.research.google.com/assets/colab-badge.svg\" alt=\"Open In Colab\"/></a>"
      ]
    },
    {
      "cell_type": "markdown",
      "source": [
        "Section A : FUNDAMENTALS OF PYTHON"
      ],
      "metadata": {
        "id": "wPUHO7itNE6z"
      }
    },
    {
      "cell_type": "code",
      "source": [
        "print(\"HELLO PYTHON\")"
      ],
      "metadata": {
        "colab": {
          "base_uri": "https://localhost:8080/"
        },
        "id": "z4xGVj4bNPGI",
        "outputId": "080ffc00-d352-455a-cbf1-3bb18fe68879"
      },
      "execution_count": null,
      "outputs": [
        {
          "output_type": "stream",
          "name": "stdout",
          "text": [
            "HELLO PYTHON\n"
          ]
        }
      ]
    },
    {
      "cell_type": "code",
      "source": [
        "A=9\n",
        "B=3\n",
        "print(A+B)\n",
        "print(A/B)"
      ],
      "metadata": {
        "colab": {
          "base_uri": "https://localhost:8080/"
        },
        "id": "T0dB8B28MCHR",
        "outputId": "bb129374-fe29-4587-f734-db6ee44e5c47"
      },
      "execution_count": null,
      "outputs": [
        {
          "output_type": "stream",
          "name": "stdout",
          "text": [
            "12\n",
            "3.0\n"
          ]
        }
      ]
    },
    {
      "cell_type": "code",
      "source": [
        "base=int(input(\"Enter the value of base = \"))\n",
        "height=int(input(\"Enter the value of height = \"))\n",
        "area=0.5*base*height\n",
        "print(area)\n"
      ],
      "metadata": {
        "colab": {
          "base_uri": "https://localhost:8080/"
        },
        "id": "YaHFd43GN5aZ",
        "outputId": "a7767a99-d5d5-45d6-bbd8-f1ba48f8e31d"
      },
      "execution_count": null,
      "outputs": [
        {
          "output_type": "stream",
          "name": "stdout",
          "text": [
            "Enter the value of base = 5\n",
            "Enter the value of height = 4\n",
            "10.0\n"
          ]
        }
      ]
    },
    {
      "cell_type": "code",
      "source": [
        "x=int(input(\"Enter your number \"))\n",
        "y=int(input(\"Enter your second number \"))\n",
        "\n",
        "x,y = y,x\n",
        "print(\"x=\",x)\n",
        "print(\"y=\",y)"
      ],
      "metadata": {
        "colab": {
          "base_uri": "https://localhost:8080/"
        },
        "id": "1ZXM2xjPO2lC",
        "outputId": "3723b726-a7e7-4902-bed8-34310c965c4b"
      },
      "execution_count": null,
      "outputs": [
        {
          "output_type": "stream",
          "name": "stdout",
          "text": [
            "Enter your number 5\n",
            "Enter your second number 4\n",
            "x= 4\n",
            "y= 5\n"
          ]
        }
      ]
    },
    {
      "cell_type": "code",
      "source": [],
      "metadata": {
        "id": "ox3jvhsVQHki"
      },
      "execution_count": null,
      "outputs": []
    },
    {
      "cell_type": "code",
      "source": [
        "import random\n",
        "print(random.randint(0,5))"
      ],
      "metadata": {
        "colab": {
          "base_uri": "https://localhost:8080/"
        },
        "id": "BnBdJc8cQOWP",
        "outputId": "ed069360-c741-4bd3-c1db-06af89dad306"
      },
      "execution_count": null,
      "outputs": [
        {
          "output_type": "stream",
          "name": "stdout",
          "text": [
            "1\n"
          ]
        }
      ]
    },
    {
      "cell_type": "markdown",
      "source": [
        "section B"
      ],
      "metadata": {
        "id": "uULW0l4tRcbD"
      }
    },
    {
      "cell_type": "code",
      "source": [
        "x=int(input(\"Enter your number \"))\n",
        "print (x*0.621371 ,\"miles\")"
      ],
      "metadata": {
        "colab": {
          "base_uri": "https://localhost:8080/"
        },
        "id": "0beBebJaRgnF",
        "outputId": "c2a04448-5f7b-405b-fc5a-deaaab24f862"
      },
      "execution_count": null,
      "outputs": [
        {
          "output_type": "stream",
          "name": "stdout",
          "text": [
            "Enter your number 67\n",
            "41.631857000000004 miles\n"
          ]
        }
      ]
    },
    {
      "cell_type": "code",
      "source": [
        "celsius=int(input(\"Enter the value of celsius = \"))\n",
        "fahrenheit=(celsius*1.8)+32\n",
        "print(fahrenheit)\n"
      ],
      "metadata": {
        "id": "PnmW-gK9SeYX",
        "colab": {
          "base_uri": "https://localhost:8080/"
        },
        "outputId": "0b193e83-3cb4-4e30-8b39-763b914604c7"
      },
      "execution_count": null,
      "outputs": [
        {
          "output_type": "stream",
          "name": "stdout",
          "text": [
            "Enter the value of celsius = 25\n",
            "77.0\n"
          ]
        }
      ]
    },
    {
      "cell_type": "code",
      "source": [
        "\\import calendar\n",
        "year=int(input(\"enter the year =\"))\n",
        "print(calendar.calendar(year))"
      ],
      "metadata": {
        "colab": {
          "base_uri": "https://localhost:8080/"
        },
        "id": "f29-oQpMUh8D",
        "outputId": "639c8e55-4b07-4713-c629-ea7fa0e81944"
      },
      "execution_count": null,
      "outputs": [
        {
          "output_type": "stream",
          "name": "stdout",
          "text": [
            "enter the year =2022\n",
            "                                  2022\n",
            "\n",
            "      January                   February                   March\n",
            "Mo Tu We Th Fr Sa Su      Mo Tu We Th Fr Sa Su      Mo Tu We Th Fr Sa Su\n",
            "                1  2          1  2  3  4  5  6          1  2  3  4  5  6\n",
            " 3  4  5  6  7  8  9       7  8  9 10 11 12 13       7  8  9 10 11 12 13\n",
            "10 11 12 13 14 15 16      14 15 16 17 18 19 20      14 15 16 17 18 19 20\n",
            "17 18 19 20 21 22 23      21 22 23 24 25 26 27      21 22 23 24 25 26 27\n",
            "24 25 26 27 28 29 30      28                        28 29 30 31\n",
            "31\n",
            "\n",
            "       April                      May                       June\n",
            "Mo Tu We Th Fr Sa Su      Mo Tu We Th Fr Sa Su      Mo Tu We Th Fr Sa Su\n",
            "             1  2  3                         1             1  2  3  4  5\n",
            " 4  5  6  7  8  9 10       2  3  4  5  6  7  8       6  7  8  9 10 11 12\n",
            "11 12 13 14 15 16 17       9 10 11 12 13 14 15      13 14 15 16 17 18 19\n",
            "18 19 20 21 22 23 24      16 17 18 19 20 21 22      20 21 22 23 24 25 26\n",
            "25 26 27 28 29 30         23 24 25 26 27 28 29      27 28 29 30\n",
            "                          30 31\n",
            "\n",
            "        July                     August                  September\n",
            "Mo Tu We Th Fr Sa Su      Mo Tu We Th Fr Sa Su      Mo Tu We Th Fr Sa Su\n",
            "             1  2  3       1  2  3  4  5  6  7                1  2  3  4\n",
            " 4  5  6  7  8  9 10       8  9 10 11 12 13 14       5  6  7  8  9 10 11\n",
            "11 12 13 14 15 16 17      15 16 17 18 19 20 21      12 13 14 15 16 17 18\n",
            "18 19 20 21 22 23 24      22 23 24 25 26 27 28      19 20 21 22 23 24 25\n",
            "25 26 27 28 29 30 31      29 30 31                  26 27 28 29 30\n",
            "\n",
            "      October                   November                  December\n",
            "Mo Tu We Th Fr Sa Su      Mo Tu We Th Fr Sa Su      Mo Tu We Th Fr Sa Su\n",
            "                1  2          1  2  3  4  5  6                1  2  3  4\n",
            " 3  4  5  6  7  8  9       7  8  9 10 11 12 13       5  6  7  8  9 10 11\n",
            "10 11 12 13 14 15 16      14 15 16 17 18 19 20      12 13 14 15 16 17 18\n",
            "17 18 19 20 21 22 23      21 22 23 24 25 26 27      19 20 21 22 23 24 25\n",
            "24 25 26 27 28 29 30      28 29 30                  26 27 28 29 30 31\n",
            "31\n",
            "\n"
          ]
        }
      ]
    },
    {
      "cell_type": "code",
      "source": [
        "import cmath\n",
        "\n",
        "a = 1\n",
        "b = 5\n",
        "c = 3\n",
        "d = (b**2) - (4*a*c)\n",
        "sol1 = (-b-cmath.sqrt(d))/(2*a)\n",
        "sol2 = (-b+cmath.sqrt(d))/(2*a)\n",
        "\n",
        "print('The solution are {0} and {1}'.format(sol1,sol2))"
      ],
      "metadata": {
        "colab": {
          "base_uri": "https://localhost:8080/"
        },
        "id": "0LEdGUNZVZhx",
        "outputId": "d62ae6ab-652e-4520-9077-3fe096451902"
      },
      "execution_count": null,
      "outputs": [
        {
          "output_type": "stream",
          "name": "stdout",
          "text": [
            "The solution are (-4.302775637731995+0j) and (-0.6972243622680054+0j)\n"
          ]
        }
      ]
    },
    {
      "cell_type": "code",
      "source": [
        "x=int(input(\"Enter your number \"))\n",
        "y=int(input(\"Enter your second number \"))\n",
        "\n",
        "x,y = y,x\n",
        "print(\"x=\",x)\n",
        "print(\"y=\",y)"
      ],
      "metadata": {
        "colab": {
          "base_uri": "https://localhost:8080/"
        },
        "id": "6nE5X--3YTzi",
        "outputId": "2842e44f-ae72-49dd-d26e-99f54197c9a3"
      },
      "execution_count": null,
      "outputs": [
        {
          "output_type": "stream",
          "name": "stdout",
          "text": [
            "Enter your number 2\n",
            "Enter your second number 9\n",
            "x= 9\n",
            "y= 2\n"
          ]
        }
      ]
    },
    {
      "cell_type": "markdown",
      "source": [
        "Section C"
      ],
      "metadata": {
        "id": "pVvfpo63Y64D"
      }
    },
    {
      "cell_type": "code",
      "source": [
        "I = float(input(\"Input a number: \"))\n",
        "if I > 0:\n",
        "   print(\"It is positive number\")\n",
        "elif I == 0:\n",
        "   print(\"It is Zero\")\n",
        "else:\n",
        "   print(\"It is a negative number\")\n",
        "   "
      ],
      "metadata": {
        "colab": {
          "base_uri": "https://localhost:8080/"
        },
        "id": "7pMO_-TgY3do",
        "outputId": "45a99434-725d-4ad0-9392-6cf61f46c23e"
      },
      "execution_count": null,
      "outputs": [
        {
          "output_type": "stream",
          "name": "stdout",
          "text": [
            "Input a number: -7\n",
            "It is a negative number\n"
          ]
        }
      ]
    },
    {
      "cell_type": "code",
      "source": [
        "A = int(input(\"Enter any number to test whether it is odd or even: \"))\n",
        "if (num % 2) == 0:\n",
        "  print(\"the number is even \")\n",
        "else:\n",
        "    print (\"the provided number is odd\")"
      ],
      "metadata": {
        "colab": {
          "base_uri": "https://localhost:8080/"
        },
        "id": "x8DmsAnraM52",
        "outputId": "d7399ed1-b6d7-478c-aeb6-bdf51184ea8d"
      },
      "execution_count": null,
      "outputs": [
        {
          "output_type": "stream",
          "name": "stdout",
          "text": [
            "Enter any number to test whether it is odd or even: 6\n",
            "the number is even \n"
          ]
        }
      ]
    },
    {
      "cell_type": "code",
      "source": [
        "A = int(input(\"Enter a year: \"))\n",
        "if (num % 4) == 0:\n",
        "  print(\"the year is leap \")\n",
        "else:\n",
        "    print (\"the year is not leap \")"
      ],
      "metadata": {
        "colab": {
          "base_uri": "https://localhost:8080/"
        },
        "id": "__y5pOfJcp0S",
        "outputId": "cc8d8946-7848-4d03-ff97-16fa9624e3ae"
      },
      "execution_count": null,
      "outputs": [
        {
          "output_type": "stream",
          "name": "stdout",
          "text": [
            "Enter a year: 2023\n",
            "the year is not leap \n"
          ]
        }
      ]
    },
    {
      "cell_type": "code",
      "source": [
        "\n",
        "\n",
        "num = 12\n",
        "flag = False\n",
        "\n",
        "\n",
        "if num > 1:\n",
        "    \n",
        "    for i in range(2, num):\n",
        "        if (num % i) == 0:\n",
        "        \n",
        "            flag = True \n",
        "            break\n",
        "\n",
        "if flag:\n",
        "    print(num, \"is not a prime number\")\n",
        "else:\n",
        "    print(num, \"is a prime number\")\n"
      ],
      "metadata": {
        "colab": {
          "base_uri": "https://localhost:8080/"
        },
        "id": "46tvpmPvArhW",
        "outputId": "334fca39-f841-4e1e-a7f1-1e1be2750a68"
      },
      "execution_count": null,
      "outputs": [
        {
          "output_type": "stream",
          "name": "stdout",
          "text": [
            "12 is not a prime number\n"
          ]
        }
      ]
    },
    {
      "cell_type": "code",
      "source": [
        "lower = 1\n",
        "upper = 10000\n",
        "\n",
        "print(\"Prime numbers between\", lower, \"and\", upper, \"are:\")\n",
        "\n",
        "for num in range(lower, upper + 1):\n",
        "   \n",
        "   if num > 1:\n",
        "       for i in range(2, num):\n",
        "           if (num % i) == 0:\n",
        "               break\n",
        "       else:\n",
        "           print(num)"
      ],
      "metadata": {
        "colab": {
          "base_uri": "https://localhost:8080/"
        },
        "id": "KwR0i3Z0CkQv",
        "outputId": "18cd1b76-3ea6-4efb-b0a2-979303bb33c3"
      },
      "execution_count": null,
      "outputs": [
        {
          "output_type": "stream",
          "name": "stdout",
          "text": [
            "Prime numbers between 1 and 10000 are:\n",
            "2\n",
            "3\n",
            "5\n",
            "7\n",
            "11\n",
            "13\n",
            "17\n",
            "19\n",
            "23\n",
            "29\n",
            "31\n",
            "37\n",
            "41\n",
            "43\n",
            "47\n",
            "53\n",
            "59\n",
            "61\n",
            "67\n",
            "71\n",
            "73\n",
            "79\n",
            "83\n",
            "89\n",
            "97\n",
            "101\n",
            "103\n",
            "107\n",
            "109\n",
            "113\n",
            "127\n",
            "131\n",
            "137\n",
            "139\n",
            "149\n",
            "151\n",
            "157\n",
            "163\n",
            "167\n",
            "173\n",
            "179\n",
            "181\n",
            "191\n",
            "193\n",
            "197\n",
            "199\n",
            "211\n",
            "223\n",
            "227\n",
            "229\n",
            "233\n",
            "239\n",
            "241\n",
            "251\n",
            "257\n",
            "263\n",
            "269\n",
            "271\n",
            "277\n",
            "281\n",
            "283\n",
            "293\n",
            "307\n",
            "311\n",
            "313\n",
            "317\n",
            "331\n",
            "337\n",
            "347\n",
            "349\n",
            "353\n",
            "359\n",
            "367\n",
            "373\n",
            "379\n",
            "383\n",
            "389\n",
            "397\n",
            "401\n",
            "409\n",
            "419\n",
            "421\n",
            "431\n",
            "433\n",
            "439\n",
            "443\n",
            "449\n",
            "457\n",
            "461\n",
            "463\n",
            "467\n",
            "479\n",
            "487\n",
            "491\n",
            "499\n",
            "503\n",
            "509\n",
            "521\n",
            "523\n",
            "541\n",
            "547\n",
            "557\n",
            "563\n",
            "569\n",
            "571\n",
            "577\n",
            "587\n",
            "593\n",
            "599\n",
            "601\n",
            "607\n",
            "613\n",
            "617\n",
            "619\n",
            "631\n",
            "641\n",
            "643\n",
            "647\n",
            "653\n",
            "659\n",
            "661\n",
            "673\n",
            "677\n",
            "683\n",
            "691\n",
            "701\n",
            "709\n",
            "719\n",
            "727\n",
            "733\n",
            "739\n",
            "743\n",
            "751\n",
            "757\n",
            "761\n",
            "769\n",
            "773\n",
            "787\n",
            "797\n",
            "809\n",
            "811\n",
            "821\n",
            "823\n",
            "827\n",
            "829\n",
            "839\n",
            "853\n",
            "857\n",
            "859\n",
            "863\n",
            "877\n",
            "881\n",
            "883\n",
            "887\n",
            "907\n",
            "911\n",
            "919\n",
            "929\n",
            "937\n",
            "941\n",
            "947\n",
            "953\n",
            "967\n",
            "971\n",
            "977\n",
            "983\n",
            "991\n",
            "997\n",
            "1009\n",
            "1013\n",
            "1019\n",
            "1021\n",
            "1031\n",
            "1033\n",
            "1039\n",
            "1049\n",
            "1051\n",
            "1061\n",
            "1063\n",
            "1069\n",
            "1087\n",
            "1091\n",
            "1093\n",
            "1097\n",
            "1103\n",
            "1109\n",
            "1117\n",
            "1123\n",
            "1129\n",
            "1151\n",
            "1153\n",
            "1163\n",
            "1171\n",
            "1181\n",
            "1187\n",
            "1193\n",
            "1201\n",
            "1213\n",
            "1217\n",
            "1223\n",
            "1229\n",
            "1231\n",
            "1237\n",
            "1249\n",
            "1259\n",
            "1277\n",
            "1279\n",
            "1283\n",
            "1289\n",
            "1291\n",
            "1297\n",
            "1301\n",
            "1303\n",
            "1307\n",
            "1319\n",
            "1321\n",
            "1327\n",
            "1361\n",
            "1367\n",
            "1373\n",
            "1381\n",
            "1399\n",
            "1409\n",
            "1423\n",
            "1427\n",
            "1429\n",
            "1433\n",
            "1439\n",
            "1447\n",
            "1451\n",
            "1453\n",
            "1459\n",
            "1471\n",
            "1481\n",
            "1483\n",
            "1487\n",
            "1489\n",
            "1493\n",
            "1499\n",
            "1511\n",
            "1523\n",
            "1531\n",
            "1543\n",
            "1549\n",
            "1553\n",
            "1559\n",
            "1567\n",
            "1571\n",
            "1579\n",
            "1583\n",
            "1597\n",
            "1601\n",
            "1607\n",
            "1609\n",
            "1613\n",
            "1619\n",
            "1621\n",
            "1627\n",
            "1637\n",
            "1657\n",
            "1663\n",
            "1667\n",
            "1669\n",
            "1693\n",
            "1697\n",
            "1699\n",
            "1709\n",
            "1721\n",
            "1723\n",
            "1733\n",
            "1741\n",
            "1747\n",
            "1753\n",
            "1759\n",
            "1777\n",
            "1783\n",
            "1787\n",
            "1789\n",
            "1801\n",
            "1811\n",
            "1823\n",
            "1831\n",
            "1847\n",
            "1861\n",
            "1867\n",
            "1871\n",
            "1873\n",
            "1877\n",
            "1879\n",
            "1889\n",
            "1901\n",
            "1907\n",
            "1913\n",
            "1931\n",
            "1933\n",
            "1949\n",
            "1951\n",
            "1973\n",
            "1979\n",
            "1987\n",
            "1993\n",
            "1997\n",
            "1999\n",
            "2003\n",
            "2011\n",
            "2017\n",
            "2027\n",
            "2029\n",
            "2039\n",
            "2053\n",
            "2063\n",
            "2069\n",
            "2081\n",
            "2083\n",
            "2087\n",
            "2089\n",
            "2099\n",
            "2111\n",
            "2113\n",
            "2129\n",
            "2131\n",
            "2137\n",
            "2141\n",
            "2143\n",
            "2153\n",
            "2161\n",
            "2179\n",
            "2203\n",
            "2207\n",
            "2213\n",
            "2221\n",
            "2237\n",
            "2239\n",
            "2243\n",
            "2251\n",
            "2267\n",
            "2269\n",
            "2273\n",
            "2281\n",
            "2287\n",
            "2293\n",
            "2297\n",
            "2309\n",
            "2311\n",
            "2333\n",
            "2339\n",
            "2341\n",
            "2347\n",
            "2351\n",
            "2357\n",
            "2371\n",
            "2377\n",
            "2381\n",
            "2383\n",
            "2389\n",
            "2393\n",
            "2399\n",
            "2411\n",
            "2417\n",
            "2423\n",
            "2437\n",
            "2441\n",
            "2447\n",
            "2459\n",
            "2467\n",
            "2473\n",
            "2477\n",
            "2503\n",
            "2521\n",
            "2531\n",
            "2539\n",
            "2543\n",
            "2549\n",
            "2551\n",
            "2557\n",
            "2579\n",
            "2591\n",
            "2593\n",
            "2609\n",
            "2617\n",
            "2621\n",
            "2633\n",
            "2647\n",
            "2657\n",
            "2659\n",
            "2663\n",
            "2671\n",
            "2677\n",
            "2683\n",
            "2687\n",
            "2689\n",
            "2693\n",
            "2699\n",
            "2707\n",
            "2711\n",
            "2713\n",
            "2719\n",
            "2729\n",
            "2731\n",
            "2741\n",
            "2749\n",
            "2753\n",
            "2767\n",
            "2777\n",
            "2789\n",
            "2791\n",
            "2797\n",
            "2801\n",
            "2803\n",
            "2819\n",
            "2833\n",
            "2837\n",
            "2843\n",
            "2851\n",
            "2857\n",
            "2861\n",
            "2879\n",
            "2887\n",
            "2897\n",
            "2903\n",
            "2909\n",
            "2917\n",
            "2927\n",
            "2939\n",
            "2953\n",
            "2957\n",
            "2963\n",
            "2969\n",
            "2971\n",
            "2999\n",
            "3001\n",
            "3011\n",
            "3019\n",
            "3023\n",
            "3037\n",
            "3041\n",
            "3049\n",
            "3061\n",
            "3067\n",
            "3079\n",
            "3083\n",
            "3089\n",
            "3109\n",
            "3119\n",
            "3121\n",
            "3137\n",
            "3163\n",
            "3167\n",
            "3169\n",
            "3181\n",
            "3187\n",
            "3191\n",
            "3203\n",
            "3209\n",
            "3217\n",
            "3221\n",
            "3229\n",
            "3251\n",
            "3253\n",
            "3257\n",
            "3259\n",
            "3271\n",
            "3299\n",
            "3301\n",
            "3307\n",
            "3313\n",
            "3319\n",
            "3323\n",
            "3329\n",
            "3331\n",
            "3343\n",
            "3347\n",
            "3359\n",
            "3361\n",
            "3371\n",
            "3373\n",
            "3389\n",
            "3391\n",
            "3407\n",
            "3413\n",
            "3433\n",
            "3449\n",
            "3457\n",
            "3461\n",
            "3463\n",
            "3467\n",
            "3469\n",
            "3491\n",
            "3499\n",
            "3511\n",
            "3517\n",
            "3527\n",
            "3529\n",
            "3533\n",
            "3539\n",
            "3541\n",
            "3547\n",
            "3557\n",
            "3559\n",
            "3571\n",
            "3581\n",
            "3583\n",
            "3593\n",
            "3607\n",
            "3613\n",
            "3617\n",
            "3623\n",
            "3631\n",
            "3637\n",
            "3643\n",
            "3659\n",
            "3671\n",
            "3673\n",
            "3677\n",
            "3691\n",
            "3697\n",
            "3701\n",
            "3709\n",
            "3719\n",
            "3727\n",
            "3733\n",
            "3739\n",
            "3761\n",
            "3767\n",
            "3769\n",
            "3779\n",
            "3793\n",
            "3797\n",
            "3803\n",
            "3821\n",
            "3823\n",
            "3833\n",
            "3847\n",
            "3851\n",
            "3853\n",
            "3863\n",
            "3877\n",
            "3881\n",
            "3889\n",
            "3907\n",
            "3911\n",
            "3917\n",
            "3919\n",
            "3923\n",
            "3929\n",
            "3931\n",
            "3943\n",
            "3947\n",
            "3967\n",
            "3989\n",
            "4001\n",
            "4003\n",
            "4007\n",
            "4013\n",
            "4019\n",
            "4021\n",
            "4027\n",
            "4049\n",
            "4051\n",
            "4057\n",
            "4073\n",
            "4079\n",
            "4091\n",
            "4093\n",
            "4099\n",
            "4111\n",
            "4127\n",
            "4129\n",
            "4133\n",
            "4139\n",
            "4153\n",
            "4157\n",
            "4159\n",
            "4177\n",
            "4201\n",
            "4211\n",
            "4217\n",
            "4219\n",
            "4229\n",
            "4231\n",
            "4241\n",
            "4243\n",
            "4253\n",
            "4259\n",
            "4261\n",
            "4271\n",
            "4273\n",
            "4283\n",
            "4289\n",
            "4297\n",
            "4327\n",
            "4337\n",
            "4339\n",
            "4349\n",
            "4357\n",
            "4363\n",
            "4373\n",
            "4391\n",
            "4397\n",
            "4409\n",
            "4421\n",
            "4423\n",
            "4441\n",
            "4447\n",
            "4451\n",
            "4457\n",
            "4463\n",
            "4481\n",
            "4483\n",
            "4493\n",
            "4507\n",
            "4513\n",
            "4517\n",
            "4519\n",
            "4523\n",
            "4547\n",
            "4549\n",
            "4561\n",
            "4567\n",
            "4583\n",
            "4591\n",
            "4597\n",
            "4603\n",
            "4621\n",
            "4637\n",
            "4639\n",
            "4643\n",
            "4649\n",
            "4651\n",
            "4657\n",
            "4663\n",
            "4673\n",
            "4679\n",
            "4691\n",
            "4703\n",
            "4721\n",
            "4723\n",
            "4729\n",
            "4733\n",
            "4751\n",
            "4759\n",
            "4783\n",
            "4787\n",
            "4789\n",
            "4793\n",
            "4799\n",
            "4801\n",
            "4813\n",
            "4817\n",
            "4831\n",
            "4861\n",
            "4871\n",
            "4877\n",
            "4889\n",
            "4903\n",
            "4909\n",
            "4919\n",
            "4931\n",
            "4933\n",
            "4937\n",
            "4943\n",
            "4951\n",
            "4957\n",
            "4967\n",
            "4969\n",
            "4973\n",
            "4987\n",
            "4993\n",
            "4999\n",
            "5003\n",
            "5009\n",
            "5011\n",
            "5021\n",
            "5023\n",
            "5039\n",
            "5051\n",
            "5059\n",
            "5077\n",
            "5081\n",
            "5087\n",
            "5099\n",
            "5101\n",
            "5107\n",
            "5113\n",
            "5119\n",
            "5147\n",
            "5153\n",
            "5167\n",
            "5171\n",
            "5179\n",
            "5189\n",
            "5197\n",
            "5209\n",
            "5227\n",
            "5231\n",
            "5233\n",
            "5237\n",
            "5261\n",
            "5273\n",
            "5279\n",
            "5281\n",
            "5297\n",
            "5303\n",
            "5309\n",
            "5323\n",
            "5333\n",
            "5347\n",
            "5351\n",
            "5381\n",
            "5387\n",
            "5393\n",
            "5399\n",
            "5407\n",
            "5413\n",
            "5417\n",
            "5419\n",
            "5431\n",
            "5437\n",
            "5441\n",
            "5443\n",
            "5449\n",
            "5471\n",
            "5477\n",
            "5479\n",
            "5483\n",
            "5501\n",
            "5503\n",
            "5507\n",
            "5519\n",
            "5521\n",
            "5527\n",
            "5531\n",
            "5557\n",
            "5563\n",
            "5569\n",
            "5573\n",
            "5581\n",
            "5591\n",
            "5623\n",
            "5639\n",
            "5641\n",
            "5647\n",
            "5651\n",
            "5653\n",
            "5657\n",
            "5659\n",
            "5669\n",
            "5683\n",
            "5689\n",
            "5693\n",
            "5701\n",
            "5711\n",
            "5717\n",
            "5737\n",
            "5741\n",
            "5743\n",
            "5749\n",
            "5779\n",
            "5783\n",
            "5791\n",
            "5801\n",
            "5807\n",
            "5813\n",
            "5821\n",
            "5827\n",
            "5839\n",
            "5843\n",
            "5849\n",
            "5851\n",
            "5857\n",
            "5861\n",
            "5867\n",
            "5869\n",
            "5879\n",
            "5881\n",
            "5897\n",
            "5903\n",
            "5923\n",
            "5927\n",
            "5939\n",
            "5953\n",
            "5981\n",
            "5987\n",
            "6007\n",
            "6011\n",
            "6029\n",
            "6037\n",
            "6043\n",
            "6047\n",
            "6053\n",
            "6067\n",
            "6073\n",
            "6079\n",
            "6089\n",
            "6091\n",
            "6101\n",
            "6113\n",
            "6121\n",
            "6131\n",
            "6133\n",
            "6143\n",
            "6151\n",
            "6163\n",
            "6173\n",
            "6197\n",
            "6199\n",
            "6203\n",
            "6211\n",
            "6217\n",
            "6221\n",
            "6229\n",
            "6247\n",
            "6257\n",
            "6263\n",
            "6269\n",
            "6271\n",
            "6277\n",
            "6287\n",
            "6299\n",
            "6301\n",
            "6311\n",
            "6317\n",
            "6323\n",
            "6329\n",
            "6337\n",
            "6343\n",
            "6353\n",
            "6359\n",
            "6361\n",
            "6367\n",
            "6373\n",
            "6379\n",
            "6389\n",
            "6397\n",
            "6421\n",
            "6427\n",
            "6449\n",
            "6451\n",
            "6469\n",
            "6473\n",
            "6481\n",
            "6491\n",
            "6521\n",
            "6529\n",
            "6547\n",
            "6551\n",
            "6553\n",
            "6563\n",
            "6569\n",
            "6571\n",
            "6577\n",
            "6581\n",
            "6599\n",
            "6607\n",
            "6619\n",
            "6637\n",
            "6653\n",
            "6659\n",
            "6661\n",
            "6673\n",
            "6679\n",
            "6689\n",
            "6691\n",
            "6701\n",
            "6703\n",
            "6709\n",
            "6719\n",
            "6733\n",
            "6737\n",
            "6761\n",
            "6763\n",
            "6779\n",
            "6781\n",
            "6791\n",
            "6793\n",
            "6803\n",
            "6823\n",
            "6827\n",
            "6829\n",
            "6833\n",
            "6841\n",
            "6857\n",
            "6863\n",
            "6869\n",
            "6871\n",
            "6883\n",
            "6899\n",
            "6907\n",
            "6911\n",
            "6917\n",
            "6947\n",
            "6949\n",
            "6959\n",
            "6961\n",
            "6967\n",
            "6971\n",
            "6977\n",
            "6983\n",
            "6991\n",
            "6997\n",
            "7001\n",
            "7013\n",
            "7019\n",
            "7027\n",
            "7039\n",
            "7043\n",
            "7057\n",
            "7069\n",
            "7079\n",
            "7103\n",
            "7109\n",
            "7121\n",
            "7127\n",
            "7129\n",
            "7151\n",
            "7159\n",
            "7177\n",
            "7187\n",
            "7193\n",
            "7207\n",
            "7211\n",
            "7213\n",
            "7219\n",
            "7229\n",
            "7237\n",
            "7243\n",
            "7247\n",
            "7253\n",
            "7283\n",
            "7297\n",
            "7307\n",
            "7309\n",
            "7321\n",
            "7331\n",
            "7333\n",
            "7349\n",
            "7351\n",
            "7369\n",
            "7393\n",
            "7411\n",
            "7417\n",
            "7433\n",
            "7451\n",
            "7457\n",
            "7459\n",
            "7477\n",
            "7481\n",
            "7487\n",
            "7489\n",
            "7499\n",
            "7507\n",
            "7517\n",
            "7523\n",
            "7529\n",
            "7537\n",
            "7541\n",
            "7547\n",
            "7549\n",
            "7559\n",
            "7561\n",
            "7573\n",
            "7577\n",
            "7583\n",
            "7589\n",
            "7591\n",
            "7603\n",
            "7607\n",
            "7621\n",
            "7639\n",
            "7643\n",
            "7649\n",
            "7669\n",
            "7673\n",
            "7681\n",
            "7687\n",
            "7691\n",
            "7699\n",
            "7703\n",
            "7717\n",
            "7723\n",
            "7727\n",
            "7741\n",
            "7753\n",
            "7757\n",
            "7759\n",
            "7789\n",
            "7793\n",
            "7817\n",
            "7823\n",
            "7829\n",
            "7841\n",
            "7853\n",
            "7867\n",
            "7873\n",
            "7877\n",
            "7879\n",
            "7883\n",
            "7901\n",
            "7907\n",
            "7919\n",
            "7927\n",
            "7933\n",
            "7937\n",
            "7949\n",
            "7951\n",
            "7963\n",
            "7993\n",
            "8009\n",
            "8011\n",
            "8017\n",
            "8039\n",
            "8053\n",
            "8059\n",
            "8069\n",
            "8081\n",
            "8087\n",
            "8089\n",
            "8093\n",
            "8101\n",
            "8111\n",
            "8117\n",
            "8123\n",
            "8147\n",
            "8161\n",
            "8167\n",
            "8171\n",
            "8179\n",
            "8191\n",
            "8209\n",
            "8219\n",
            "8221\n",
            "8231\n",
            "8233\n",
            "8237\n",
            "8243\n",
            "8263\n",
            "8269\n",
            "8273\n",
            "8287\n",
            "8291\n",
            "8293\n",
            "8297\n",
            "8311\n",
            "8317\n",
            "8329\n",
            "8353\n",
            "8363\n",
            "8369\n",
            "8377\n",
            "8387\n",
            "8389\n",
            "8419\n",
            "8423\n",
            "8429\n",
            "8431\n",
            "8443\n",
            "8447\n",
            "8461\n",
            "8467\n",
            "8501\n",
            "8513\n",
            "8521\n",
            "8527\n",
            "8537\n",
            "8539\n",
            "8543\n",
            "8563\n",
            "8573\n",
            "8581\n",
            "8597\n",
            "8599\n",
            "8609\n",
            "8623\n",
            "8627\n",
            "8629\n",
            "8641\n",
            "8647\n",
            "8663\n",
            "8669\n",
            "8677\n",
            "8681\n",
            "8689\n",
            "8693\n",
            "8699\n",
            "8707\n",
            "8713\n",
            "8719\n",
            "8731\n",
            "8737\n",
            "8741\n",
            "8747\n",
            "8753\n",
            "8761\n",
            "8779\n",
            "8783\n",
            "8803\n",
            "8807\n",
            "8819\n",
            "8821\n",
            "8831\n",
            "8837\n",
            "8839\n",
            "8849\n",
            "8861\n",
            "8863\n",
            "8867\n",
            "8887\n",
            "8893\n",
            "8923\n",
            "8929\n",
            "8933\n",
            "8941\n",
            "8951\n",
            "8963\n",
            "8969\n",
            "8971\n",
            "8999\n",
            "9001\n",
            "9007\n",
            "9011\n",
            "9013\n",
            "9029\n",
            "9041\n",
            "9043\n",
            "9049\n",
            "9059\n",
            "9067\n",
            "9091\n",
            "9103\n",
            "9109\n",
            "9127\n",
            "9133\n",
            "9137\n",
            "9151\n",
            "9157\n",
            "9161\n",
            "9173\n",
            "9181\n",
            "9187\n",
            "9199\n",
            "9203\n",
            "9209\n",
            "9221\n",
            "9227\n",
            "9239\n",
            "9241\n",
            "9257\n",
            "9277\n",
            "9281\n",
            "9283\n",
            "9293\n",
            "9311\n",
            "9319\n",
            "9323\n",
            "9337\n",
            "9341\n",
            "9343\n",
            "9349\n",
            "9371\n",
            "9377\n",
            "9391\n",
            "9397\n",
            "9403\n",
            "9413\n",
            "9419\n",
            "9421\n",
            "9431\n",
            "9433\n",
            "9437\n",
            "9439\n",
            "9461\n",
            "9463\n",
            "9467\n",
            "9473\n",
            "9479\n",
            "9491\n",
            "9497\n",
            "9511\n",
            "9521\n",
            "9533\n",
            "9539\n",
            "9547\n",
            "9551\n",
            "9587\n",
            "9601\n",
            "9613\n",
            "9619\n",
            "9623\n",
            "9629\n",
            "9631\n",
            "9643\n",
            "9649\n",
            "9661\n",
            "9677\n",
            "9679\n",
            "9689\n",
            "9697\n",
            "9719\n",
            "9721\n",
            "9733\n",
            "9739\n",
            "9743\n",
            "9749\n",
            "9767\n",
            "9769\n",
            "9781\n",
            "9787\n",
            "9791\n",
            "9803\n",
            "9811\n",
            "9817\n",
            "9829\n",
            "9833\n",
            "9839\n",
            "9851\n",
            "9857\n",
            "9859\n",
            "9871\n",
            "9883\n",
            "9887\n",
            "9901\n",
            "9907\n",
            "9923\n",
            "9929\n",
            "9931\n",
            "9941\n",
            "9949\n",
            "9967\n",
            "9973\n"
          ]
        }
      ]
    },
    {
      "cell_type": "markdown",
      "source": [
        "Section D"
      ],
      "metadata": {
        "id": "_MS79wBqECf0"
      }
    },
    {
      "cell_type": "code",
      "source": [
        "num = int(input(\"Enter a number: \"))\n",
        "\n",
        "factorial = 1\n",
        "\n",
        "# check if the number is negative, positive or zero\n",
        "if num < 0:\n",
        "   print(\"Sorry, factorial does not exist for negative numbers\")\n",
        "elif num == 0:\n",
        "   print(\"The factorial of 0 is 1\")\n",
        "else:\n",
        "   for i in range(1,num + 1):\n",
        "       factorial = factorial*i\n",
        "   print(\"The factorial of\",num,\"is\",factorial)"
      ],
      "metadata": {
        "colab": {
          "base_uri": "https://localhost:8080/"
        },
        "id": "nRHBxsjkD-EG",
        "outputId": "2bdc4976-e889-4745-c4d0-02c9938314bd"
      },
      "execution_count": null,
      "outputs": [
        {
          "output_type": "stream",
          "name": "stdout",
          "text": [
            "Enter a number: 9\n",
            "The factorial of 9 is 362880\n"
          ]
        }
      ]
    },
    {
      "cell_type": "code",
      "source": [
        "num = int(input(\"Display multiplication table of? \"))\n",
        "\n",
        "for i in range(1, 11):\n",
        "   print(num, 'x', i, '=', num*i)\n"
      ],
      "metadata": {
        "colab": {
          "base_uri": "https://localhost:8080/"
        },
        "id": "hgSxWNFyFT3P",
        "outputId": "641b3cf9-a5e4-4580-d488-a4a98c626ae1"
      },
      "execution_count": null,
      "outputs": [
        {
          "output_type": "stream",
          "name": "stdout",
          "text": [
            "Display multiplication table of? 13\n",
            "13 x 1 = 13\n",
            "13 x 2 = 26\n",
            "13 x 3 = 39\n",
            "13 x 4 = 52\n",
            "13 x 5 = 65\n",
            "13 x 6 = 78\n",
            "13 x 7 = 91\n",
            "13 x 8 = 104\n",
            "13 x 9 = 117\n",
            "13 x 10 = 130\n"
          ]
        }
      ]
    },
    {
      "cell_type": "code",
      "source": [
        "\n",
        "\n",
        "\n",
        "nterms = int(input(\"How many terms? \"))\n",
        "\n",
        "\n",
        "n1, n2 = 0, 1\n",
        "count = 0\n",
        "if nterms <= 0:\n",
        "   print(\"Please enter a positive integer\")\n",
        "elif nterms == 1:\n",
        "   print(\"Fibonacci sequence upto\",nterms,\":\")\n",
        "   print(n1)\n",
        "\n",
        "else:\n",
        "   print(\"Fibonacci sequence:\")\n",
        "   while count < nterms:\n",
        "       print(n1)\n",
        "       nth = n1 + n2\n",
        "       n1 = n2\n",
        "       n2 = nth\n",
        "       count += 1"
      ],
      "metadata": {
        "colab": {
          "base_uri": "https://localhost:8080/"
        },
        "id": "YeLxZZ07GX1U",
        "outputId": "1d5152cb-e13a-4a8f-ccf0-1819e3fdb592"
      },
      "execution_count": null,
      "outputs": [
        {
          "output_type": "stream",
          "name": "stdout",
          "text": [
            "How many terms? 10\n",
            "Fibonacci sequence:\n",
            "0\n",
            "1\n",
            "1\n",
            "2\n",
            "3\n",
            "5\n",
            "8\n",
            "13\n",
            "21\n",
            "34\n"
          ]
        }
      ]
    },
    {
      "cell_type": "code",
      "source": [
        "\n",
        "num = int(input(\"Enter a number: \"))\n",
        "sum = 0\n",
        "\n",
        "\n",
        "temp = num\n",
        "while temp > 0:\n",
        "   digit = temp % 10\n",
        "   sum += digit ** 3\n",
        "   temp //= 10\n",
        "\n",
        "if num == sum:\n",
        "   print(num,\"is an Armstrong number\")\n",
        "else:\n",
        "   print(num,\"is not an Armstrong number\")"
      ],
      "metadata": {
        "colab": {
          "base_uri": "https://localhost:8080/"
        },
        "id": "Ueo_yANXIv8w",
        "outputId": "fbf8f82f-d3f6-4e36-cfda-60201355e14d"
      },
      "execution_count": null,
      "outputs": [
        {
          "output_type": "stream",
          "name": "stdout",
          "text": [
            "Enter a number: 158\n",
            "158 is not an Armstrong number\n"
          ]
        }
      ]
    },
    {
      "cell_type": "code",
      "source": [
        "lower = 100\n",
        "upper = 2000\n",
        "\n",
        "for num in range(lower, upper + 1):\n",
        "\n",
        "   order = len(str(num))\n",
        "    \n",
        "   sum = 0\n",
        "\n",
        "   temp = num\n",
        "   while temp > 0:\n",
        "       digit = temp % 10\n",
        "       sum += digit ** order\n",
        "       temp //= 10\n",
        "\n",
        "   if num == sum:\n",
        "       print(num)"
      ],
      "metadata": {
        "colab": {
          "base_uri": "https://localhost:8080/"
        },
        "id": "L9_fBZArJUJ3",
        "outputId": "9b5ae84b-0c4a-4580-feb9-9183c88cf5fc"
      },
      "execution_count": null,
      "outputs": [
        {
          "output_type": "stream",
          "name": "stdout",
          "text": [
            "153\n",
            "370\n",
            "371\n",
            "407\n",
            "1634\n"
          ]
        }
      ]
    },
    {
      "cell_type": "code",
      "source": [
        "\n",
        "num = 16\n",
        "\n",
        "if num < 0:\n",
        "   print(\"Enter a positive number\")\n",
        "else:\n",
        "   sum = 0\n",
        "   # use while loop to iterate until zero\n",
        "   while(num > 0):\n",
        "       sum += num\n",
        "       num -= 1\n",
        "   print(\"The sum is\", sum)\n"
      ],
      "metadata": {
        "colab": {
          "base_uri": "https://localhost:8080/"
        },
        "id": "67yOOhqxJcaq",
        "outputId": "1c2c8c6d-ae56-45ea-c8db-f4c4641ce3d4"
      },
      "execution_count": null,
      "outputs": [
        {
          "output_type": "stream",
          "name": "stdout",
          "text": [
            "The sum is 136\n"
          ]
        }
      ]
    },
    {
      "cell_type": "code",
      "source": [
        "arr = [1, 2, 8, 7, 5];     \n",
        "sum = 0;    \n",
        "      \n",
        "for i in range(0, len(arr)):    \n",
        "   sum = sum + arr[i];    \n",
        "     \n",
        "print(\"Sum of all the elements of an array: \" + str(sum));"
      ],
      "metadata": {
        "colab": {
          "base_uri": "https://localhost:8080/"
        },
        "id": "LB6OUPg-J5yY",
        "outputId": "ff16fe47-0184-4e57-ec29-bfa8f2c700d3"
      },
      "execution_count": null,
      "outputs": [
        {
          "output_type": "stream",
          "name": "stdout",
          "text": [
            "Sum of all the elements of an array: 23\n"
          ]
        }
      ]
    },
    {
      "cell_type": "code",
      "source": [
        "def largest(arr, n):\n",
        "    ans = max(arr)\n",
        "    return ans;\n",
        " \n",
        "if __name__ == '__main__':\n",
        "    arr = [1, 324, 45, 20, 100]\n",
        "    n = len(arr)\n",
        "    print (\"Largest in given array \", largest(arr, n))"
      ],
      "metadata": {
        "colab": {
          "base_uri": "https://localhost:8080/"
        },
        "id": "_850bHDYLECG",
        "outputId": "a803b5ba-f0db-4d39-a20a-23a828145c67"
      },
      "execution_count": null,
      "outputs": [
        {
          "output_type": "stream",
          "name": "stdout",
          "text": [
            "Largest in given array  324\n"
          ]
        }
      ]
    },
    {
      "cell_type": "code",
      "source": [
        "def rotateArray(a,d):\n",
        "    temp = []\n",
        "    n=len(a)\n",
        "    for i in range(d,n):\n",
        "        temp.append(a[i])\n",
        "    i = 0\n",
        "    for i in range (0,d):\n",
        "        temp.append(a[i])\n",
        "    a=temp.copy()\n",
        "    return a\n",
        " \n",
        "arr = [1, 2, 3, 4, 5, 6, 7]\n",
        "print(\"Array after left rotation is: \", end=' ')\n",
        "print(rotateArray(arr, 2))\n"
      ],
      "metadata": {
        "colab": {
          "base_uri": "https://localhost:8080/"
        },
        "id": "A9-uiD3bMceV",
        "outputId": "03e090da-147c-4973-920c-85ccaef78b4f"
      },
      "execution_count": null,
      "outputs": [
        {
          "output_type": "stream",
          "name": "stdout",
          "text": [
            "Array after left rotation is:  [3, 4, 5, 6, 7, 1, 2]\n"
          ]
        }
      ]
    },
    {
      "cell_type": "code",
      "source": [
        "\n",
        "def splitArr(a, n, k): \n",
        "   b = a[:k]\n",
        "   return (a[k::]+b[::])\n",
        "          \n",
        "  \n",
        "# main\n",
        "arr = [ 11, 5, 6, 52, 36, 10, 23]\n",
        "n = len(arr)\n",
        "position = 3\n",
        "arr = splitArr(arr, n, position)\n",
        "for i in range(0, n): \n",
        "    print(arr[i], end = ' ')"
      ],
      "metadata": {
        "colab": {
          "base_uri": "https://localhost:8080/"
        },
        "id": "tjyRRBwPNDkN",
        "outputId": "586f3fef-2b5b-40c1-98eb-81503d8e448c"
      },
      "execution_count": null,
      "outputs": [
        {
          "output_type": "stream",
          "name": "stdout",
          "text": [
            "52 36 10 23 11 5 6 "
          ]
        }
      ]
    },
    {
      "cell_type": "code",
      "source": [
        "def isMonotonic(A):\n",
        "  \n",
        "    return (all(A[i] <= A[i + 1] for i in range(len(A) - 1)) or\n",
        "            all(A[i] >= A[i + 1] for i in range(len(A) - 1)))\n",
        "  \n",
        "# Driver program\n",
        "A = [9, 5, 4, 1]\n",
        "  \n",
        "# Print required result\n",
        "print(isMonotonic(A))"
      ],
      "metadata": {
        "colab": {
          "base_uri": "https://localhost:8080/"
        },
        "id": "81SCiIneSyEy",
        "outputId": "72c158c9-f98d-4dda-beaa-048f3d879aea"
      },
      "execution_count": null,
      "outputs": [
        {
          "output_type": "stream",
          "name": "stdout",
          "text": [
            "True\n"
          ]
        }
      ]
    },
    {
      "cell_type": "markdown",
      "source": [
        "Section F"
      ],
      "metadata": {
        "id": "DrYsC1I9UuI-"
      }
    },
    {
      "cell_type": "code",
      "source": [
        "total = 0\n",
        " \n",
        "list1 = [11, 5, 17, 18, 23]\n",
        " \n",
        "for ele in range(0, len(list1)):\n",
        "    total = total + list1[ele]\n",
        " \n",
        "print(\"Sum of all elements in given list: \", total)"
      ],
      "metadata": {
        "colab": {
          "base_uri": "https://localhost:8080/"
        },
        "id": "4RHj7wHuS0JN",
        "outputId": "70f8e4e0-f199-437b-b233-9cda7fbe3f94"
      },
      "execution_count": null,
      "outputs": [
        {
          "output_type": "stream",
          "name": "stdout",
          "text": [
            "Sum of all elements in given list:  74\n"
          ]
        }
      ]
    },
    {
      "cell_type": "code",
      "source": [
        "def multiply_list(items):\n",
        "    tot = 1\n",
        "    for x in items:\n",
        "        tot *= x\n",
        "    return tot\n",
        "print(multiply_list([2,5,10]))"
      ],
      "metadata": {
        "colab": {
          "base_uri": "https://localhost:8080/"
        },
        "id": "weSXb0UITfoQ",
        "outputId": "41672e05-ab07-419f-b8ef-1dbcc153fce7"
      },
      "execution_count": null,
      "outputs": [
        {
          "output_type": "stream",
          "name": "stdout",
          "text": [
            "100\n"
          ]
        }
      ]
    },
    {
      "cell_type": "code",
      "source": [
        "list1 = [11, 202, 40, 5, 99]\n",
        " \n",
        "list1.sort()\n",
        " \n",
        "print(\"Smallest element is:\", *list1[:1])"
      ],
      "metadata": {
        "colab": {
          "base_uri": "https://localhost:8080/"
        },
        "id": "DaMz_5LeUNei",
        "outputId": "4236ccd0-992e-461a-ac93-ce10da225413"
      },
      "execution_count": null,
      "outputs": [
        {
          "output_type": "stream",
          "name": "stdout",
          "text": [
            "Smallest element is: 5\n"
          ]
        }
      ]
    },
    {
      "cell_type": "code",
      "source": [
        "list1 = [10, 20, 4, 45, 99]\n",
        " \n",
        "list1.sort()\n",
        " \n",
        "print(\"Largest element is:\", list1[-1])"
      ],
      "metadata": {
        "colab": {
          "base_uri": "https://localhost:8080/"
        },
        "id": "6cwG1N8oUpjE",
        "outputId": "b489c53b-76e6-437f-8473-38cc79db8552"
      },
      "execution_count": null,
      "outputs": [
        {
          "output_type": "stream",
          "name": "stdout",
          "text": [
            "Largest element is: 99\n"
          ]
        }
      ]
    },
    {
      "cell_type": "code",
      "source": [
        "l = [1000,298,3579,100,200,-45,900]\n",
        "n = int(input(\"Enter N: \"))\n",
        " \n",
        "l.sort()\n",
        "print(l[-n:])"
      ],
      "metadata": {
        "colab": {
          "base_uri": "https://localhost:8080/"
        },
        "id": "duWA6pQAUzAP",
        "outputId": "5ff0f789-6455-4100-bd87-acf8da738796"
      },
      "execution_count": null,
      "outputs": [
        {
          "output_type": "stream",
          "name": "stdout",
          "text": [
            "Enter N: 3\n",
            "[900, 1000, 3579]\n"
          ]
        }
      ]
    },
    {
      "cell_type": "code",
      "source": [
        "\n",
        "list1 = [10, 2, 45, 58, 67, 93]\n",
        " \n",
        "for num in list1:\n",
        " \n",
        "    if num % 2 == 0:\n",
        "        print(num, end=\" \")"
      ],
      "metadata": {
        "colab": {
          "base_uri": "https://localhost:8080/"
        },
        "id": "enqiMZ9PWUJZ",
        "outputId": "e8d99cad-a166-4541-93cf-e301ed7ff1f9"
      },
      "execution_count": null,
      "outputs": [
        {
          "output_type": "stream",
          "name": "stdout",
          "text": [
            "10 2 58 "
          ]
        }
      ]
    },
    {
      "cell_type": "code",
      "source": [
        "list1 = [10, 21, 4, 45, 66, 93]\n",
        " \n",
        "for num in list1:\n",
        "     \n",
        "    if num % 2 != 0:\n",
        "       print(num, end = \" \")"
      ],
      "metadata": {
        "colab": {
          "base_uri": "https://localhost:8080/"
        },
        "id": "QYQVANF1WstY",
        "outputId": "17372bdd-704c-41a9-b66a-a784f553cb6d"
      },
      "execution_count": null,
      "outputs": [
        {
          "output_type": "stream",
          "name": "stdout",
          "text": [
            "21 45 93 "
          ]
        }
      ]
    },
    {
      "cell_type": "code",
      "source": [
        " test_list = [ 6, [], 1, 3, [], [], 9]\n",
        " \n",
        "print(\"The original list is : \" + str(test_list))\n",
        " \n",
        "res = [ele for ele in test_list if ele != []]\n",
        " \n",
        "print(\"List after empty list removal : \" + str(res))"
      ],
      "metadata": {
        "colab": {
          "base_uri": "https://localhost:8080/"
        },
        "id": "L5qmTl6qXEuR",
        "outputId": "120c2ef3-9b55-4396-bc94-43147928591f"
      },
      "execution_count": null,
      "outputs": [
        {
          "output_type": "stream",
          "name": "stdout",
          "text": [
            "The original list is : [6, [], 1, 3, [], [], 9]\n",
            "List after empty list removal : [6, 1, 3, 9]\n"
          ]
        }
      ]
    },
    {
      "cell_type": "code",
      "source": [
        "def Cloning(li1):\n",
        "    li_copy = li1[:]\n",
        "    return li_copy\n",
        " \n",
        "li1 = [4, 8, 2, 10, 15, 18]\n",
        "li2 = Cloning(li1)\n",
        "print(\"Original List:\", li1)\n",
        "print(\"After Cloning:\", li2)"
      ],
      "metadata": {
        "colab": {
          "base_uri": "https://localhost:8080/"
        },
        "id": "f3fbFHWlXi7l",
        "outputId": "6bac3614-7630-4a0f-fb97-c30cbc6502bb"
      },
      "execution_count": null,
      "outputs": [
        {
          "output_type": "stream",
          "name": "stdout",
          "text": [
            "Original List: [4, 8, 2, 10, 15, 18]\n",
            "After Cloning: [4, 8, 2, 10, 15, 18]\n"
          ]
        }
      ]
    },
    {
      "cell_type": "code",
      "source": [
        "def countX(lst, x):\n",
        "    return lst.count(x)\n",
        " \n",
        "lst = [8, 6, 8, 10, 8, 20, 10, 8, 8]\n",
        "x = 8\n",
        "print('{} has occurred {} times'.format(x, countX(lst, x)))"
      ],
      "metadata": {
        "colab": {
          "base_uri": "https://localhost:8080/"
        },
        "id": "UghaH35AYB1A",
        "outputId": "3255c633-164c-49c1-dbd1-1956d8aed941"
      },
      "execution_count": null,
      "outputs": [
        {
          "output_type": "stream",
          "name": "stdout",
          "text": [
            "8 has occurred 5 times\n"
          ]
        }
      ]
    }
  ]
}